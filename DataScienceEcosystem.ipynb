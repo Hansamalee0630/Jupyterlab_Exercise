{
 "cells": [
  {
   "cell_type": "markdown",
   "id": "8aaf490c-3571-452b-bb2d-087c1b56c090",
   "metadata": {},
   "source": [
    "# Data Science Tools and Ecosystem"
   ]
  },
  {
   "cell_type": "markdown",
   "id": "1a2fc0c2-ed0c-487d-924f-7f3c9471e93a",
   "metadata": {},
   "source": [
    "In this notebook, Data Science Tools and Ecosystem are summarized."
   ]
  },
  {
   "cell_type": "markdown",
   "id": "d760bddf-bcdd-4342-9f8e-f9f83d8b69fe",
   "metadata": {},
   "source": [
    "### Some of the popular languages that Data Scientists use are:\n",
    "1. Python\n",
    "2. R\n",
    "3. SQL"
   ]
  },
  {
   "cell_type": "markdown",
   "id": "bf760ba9-47e6-458f-b3a9-ddba201e629b",
   "metadata": {},
   "source": [
    "### Some of the commonly used libraries used by Data Scientists include:\n",
    "1. NumPy\r\n",
    "2. Pandas\r\n",
    "3. Matplotlib\r\n",
    "4. Scikit-learn\r\n",
    "5. TensorFlow"
   ]
  },
  {
   "cell_type": "markdown",
   "id": "6d9e3873-000b-431d-acfc-9d96d9f61cb5",
   "metadata": {},
   "source": [
    "| Data Science Tools   |\n",
    "|----------------------|\n",
    "| Jupyter Notebook     |\n",
    "| RStudio              |\n",
    "| Visual Studio Code   |"
   ]
  },
  {
   "cell_type": "markdown",
   "id": "beb4cf6b-33e0-416b-9500-ed5164d26b17",
   "metadata": {},
   "source": [
    "### Below are a few examples of evaluating arithmetic expressions in Python"
   ]
  },
  {
   "cell_type": "code",
   "execution_count": 3,
   "id": "2b07b8c8-4d7b-4781-83d1-5c068a2bf216",
   "metadata": {},
   "outputs": [
    {
     "data": {
      "text/plain": [
       "17"
      ]
     },
     "execution_count": 3,
     "metadata": {},
     "output_type": "execute_result"
    }
   ],
   "source": [
    "# This a simple arithmetic expression to mutiply then add integers\n",
    "(3*4)+5"
   ]
  },
  {
   "cell_type": "code",
   "execution_count": 5,
   "id": "b474b29d-1c65-4267-a310-589ef3230fd5",
   "metadata": {},
   "outputs": [
    {
     "data": {
      "text/plain": [
       "3.3333333333333335"
      ]
     },
     "execution_count": 5,
     "metadata": {},
     "output_type": "execute_result"
    }
   ],
   "source": [
    "# This will convert 200 minutes to hours by diving by 60\n",
    "minutes = 200\n",
    "hours = minutes / 60\n",
    "hours"
   ]
  },
  {
   "cell_type": "markdown",
   "id": "81673de5-1800-40e9-912d-45a2e3ddbec9",
   "metadata": {},
   "source": [
    "**Objectives:**\n",
    "- List popular languages for Data Science\n",
    "- Identify commonly used libraries in data science.\r\n",
    "- Summarize key data science tools and ecosystems"
   ]
  },
  {
   "cell_type": "markdown",
   "id": "e12f1126-def9-43e2-a312-78fd6024e507",
   "metadata": {},
   "source": [
    "## Author\n",
    "Hansamalee Ekanayake"
   ]
  },
  {
   "cell_type": "code",
   "execution_count": null,
   "id": "a3f0a47b-2f94-4985-bf99-d69fa0e341a0",
   "metadata": {},
   "outputs": [],
   "source": []
  }
 ],
 "metadata": {
  "kernelspec": {
   "display_name": "Python 3 (ipykernel)",
   "language": "python",
   "name": "python3"
  },
  "language_info": {
   "codemirror_mode": {
    "name": "ipython",
    "version": 3
   },
   "file_extension": ".py",
   "mimetype": "text/x-python",
   "name": "python",
   "nbconvert_exporter": "python",
   "pygments_lexer": "ipython3",
   "version": "3.11.7"
  }
 },
 "nbformat": 4,
 "nbformat_minor": 5
}
